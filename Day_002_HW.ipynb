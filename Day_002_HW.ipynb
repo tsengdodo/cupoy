{
 "cells": [
  {
   "cell_type": "markdown",
   "metadata": {},
   "source": [
    "## [作業目標]\n",
    "了解機器學習適合應用的領域與範疇。"
   ]
  },
  {
   "cell_type": "markdown",
   "metadata": {},
   "source": [
    "## [作業重點]\n",
    "透過瞭解機器學習的運作方式，找出非常適用機器學習應用的領域及其原因"
   ]
  },
  {
   "cell_type": "markdown",
   "metadata": {},
   "source": [
    "## 作業\n",
    "請找出一個你認為機器學習可以發光發熱的領域並闡述原因? "
   ]
  },
  {
   "cell_type": "markdown",
   "metadata": {},
   "source": [
    "## 回答\n",
    "領域: 衣服的搭配及試穿\n",
    "原因: 線上購買服飾的店家越來越多也越來越方便，已經培養出消費者不常去實體店面的習性，然而有一大部分的人依然不敢在平台購入高單價或注重試穿的商品ex 鞋子 ，以避免後續退換貨的糾紛但又不甘心浪費這一大筆錢，因此我認為隨著3D成像技術的普及，服飾電商可以讓虛擬試衣的技術落實同時發展搭配功能，讓推薦系統建議的服裝搭配能真實的呈現給消費者之餘，還能紀錄下消費者的穿搭風格以利下次的推薦更能打中人心，也讓衝動型消費的行為更容易發生"
   ]
  }
 ],
 "metadata": {
  "kernelspec": {
   "display_name": "Python 3",
   "language": "python",
   "name": "python3"
  },
  "language_info": {
   "codemirror_mode": {
    "name": "ipython",
    "version": 3
   },
   "file_extension": ".py",
   "mimetype": "text/x-python",
   "name": "python",
   "nbconvert_exporter": "python",
   "pygments_lexer": "ipython3",
   "version": "3.8.3"
  }
 },
 "nbformat": 4,
 "nbformat_minor": 2
}
